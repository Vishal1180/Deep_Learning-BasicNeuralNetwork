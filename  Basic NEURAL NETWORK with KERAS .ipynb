{
 "cells": [
  {
   "cell_type": "markdown",
   "id": "03d742ee",
   "metadata": {},
   "source": [
    "# First Neural Network With KERAS on Diabetes Dataset"
   ]
  },
  {
   "cell_type": "code",
   "execution_count": 3,
   "id": "a843930f",
   "metadata": {},
   "outputs": [],
   "source": [
    "#importing Dataset\n",
    "from numpy import loadtxt\n",
    "from keras.models import Sequential\n",
    "from keras.layers import Dense"
   ]
  },
  {
   "cell_type": "markdown",
   "id": "b38093e0",
   "metadata": {},
   "source": [
    "# 1 Loading the Dataset"
   ]
  },
  {
   "cell_type": "code",
   "execution_count": 7,
   "id": "2a08e2c8",
   "metadata": {},
   "outputs": [],
   "source": [
    "# load the dataset\n",
    "dataset = loadtxt('pima-indians-diabetes.csv',delimiter=',')\n",
    "# split into input (X) and output (y) variables\n",
    "X = dataset[:,0:8]\n",
    "y = dataset[:,8]"
   ]
  },
  {
   "cell_type": "code",
   "execution_count": 10,
   "id": "4de97e49",
   "metadata": {},
   "outputs": [
    {
     "data": {
      "text/plain": [
       "(768, 9)"
      ]
     },
     "execution_count": 10,
     "metadata": {},
     "output_type": "execute_result"
    }
   ],
   "source": [
    "dataset.shape"
   ]
  },
  {
   "cell_type": "markdown",
   "id": "5ecb6cbb",
   "metadata": {},
   "source": [
    "# 2. Define Keras Model\n",
    "Models in Keras are defined as a sequence of layers.\n",
    "\n",
    "We create a Sequential model and add layers one at a time until we are happy with our network architecture."
   ]
  },
  {
   "cell_type": "code",
   "execution_count": 11,
   "id": "59b9a31d",
   "metadata": {},
   "outputs": [],
   "source": [
    "# define the keras model\n",
    "model = Sequential()\n",
    "model.add(Dense(12, input_dim=8, activation='relu'))\n",
    "model.add(Dense(8, activation='relu'))\n",
    "model.add(Dense(1, activation='sigmoid'))"
   ]
  },
  {
   "cell_type": "markdown",
   "id": "ae736882",
   "metadata": {},
   "source": [
    "# 3. Compile Keras Model"
   ]
  },
  {
   "cell_type": "code",
   "execution_count": 12,
   "id": "38b7a6a9",
   "metadata": {},
   "outputs": [],
   "source": [
    "# compile the keras model\n",
    "model.compile(loss='binary_crossentropy', optimizer='adam', metrics=['accuracy'])"
   ]
  },
  {
   "cell_type": "markdown",
   "id": "d8802e7f",
   "metadata": {},
   "source": [
    "# 4. Fit Keras Model"
   ]
  },
  {
   "cell_type": "code",
   "execution_count": 13,
   "id": "4f3fdb2e",
   "metadata": {},
   "outputs": [
    {
     "name": "stdout",
     "output_type": "stream",
     "text": [
      "Epoch 1/150\n",
      "77/77 [==============================] - 3s 2ms/step - loss: 5.8546 - accuracy: 0.4661\n",
      "Epoch 2/150\n",
      "77/77 [==============================] - 0s 2ms/step - loss: 1.5075 - accuracy: 0.4583\n",
      "Epoch 3/150\n",
      "77/77 [==============================] - 0s 2ms/step - loss: 0.9811 - accuracy: 0.4974\n",
      "Epoch 4/150\n",
      "77/77 [==============================] - 0s 2ms/step - loss: 0.8674 - accuracy: 0.5625\n",
      "Epoch 5/150\n",
      "77/77 [==============================] - 0s 2ms/step - loss: 0.8027 - accuracy: 0.5690\n",
      "Epoch 6/150\n",
      "77/77 [==============================] - 0s 2ms/step - loss: 0.7623 - accuracy: 0.5911\n",
      "Epoch 7/150\n",
      "77/77 [==============================] - 0s 2ms/step - loss: 0.7393 - accuracy: 0.5911\n",
      "Epoch 8/150\n",
      "77/77 [==============================] - 0s 2ms/step - loss: 0.7056 - accuracy: 0.6029: 0s - loss: 0.7064 - accuracy: 0.60\n",
      "Epoch 9/150\n",
      "77/77 [==============================] - ETA: 0s - loss: 0.6822 - accuracy: 0.63 - 0s 2ms/step - loss: 0.6816 - accuracy: 0.6341\n",
      "Epoch 10/150\n",
      "77/77 [==============================] - 0s 2ms/step - loss: 0.6642 - accuracy: 0.6484\n",
      "Epoch 11/150\n",
      "77/77 [==============================] - 0s 3ms/step - loss: 0.6517 - accuracy: 0.6589\n",
      "Epoch 12/150\n",
      "77/77 [==============================] - 0s 3ms/step - loss: 0.6560 - accuracy: 0.6628\n",
      "Epoch 13/150\n",
      "77/77 [==============================] - 0s 3ms/step - loss: 0.6358 - accuracy: 0.6615\n",
      "Epoch 14/150\n",
      "77/77 [==============================] - 0s 2ms/step - loss: 0.6354 - accuracy: 0.6654\n",
      "Epoch 15/150\n",
      "77/77 [==============================] - 0s 2ms/step - loss: 0.6299 - accuracy: 0.6758\n",
      "Epoch 16/150\n",
      "77/77 [==============================] - 0s 2ms/step - loss: 0.6248 - accuracy: 0.6745\n",
      "Epoch 17/150\n",
      "77/77 [==============================] - 0s 4ms/step - loss: 0.6158 - accuracy: 0.6862: 0s - loss: 0.6103 - accuracy: \n",
      "Epoch 18/150\n",
      "77/77 [==============================] - 0s 2ms/step - loss: 0.6181 - accuracy: 0.6745\n",
      "Epoch 19/150\n",
      "77/77 [==============================] - 0s 2ms/step - loss: 0.6035 - accuracy: 0.6953\n",
      "Epoch 20/150\n",
      "77/77 [==============================] - 0s 2ms/step - loss: 0.6131 - accuracy: 0.7005\n",
      "Epoch 21/150\n",
      "77/77 [==============================] - 0s 4ms/step - loss: 0.6012 - accuracy: 0.6979\n",
      "Epoch 22/150\n",
      "77/77 [==============================] - 0s 2ms/step - loss: 0.5945 - accuracy: 0.6810\n",
      "Epoch 23/150\n",
      "77/77 [==============================] - 0s 2ms/step - loss: 0.5949 - accuracy: 0.7070\n",
      "Epoch 24/150\n",
      "77/77 [==============================] - 0s 2ms/step - loss: 0.5897 - accuracy: 0.6940\n",
      "Epoch 25/150\n",
      "77/77 [==============================] - 0s 2ms/step - loss: 0.5839 - accuracy: 0.7096\n",
      "Epoch 26/150\n",
      "77/77 [==============================] - 0s 2ms/step - loss: 0.5802 - accuracy: 0.7109\n",
      "Epoch 27/150\n",
      "77/77 [==============================] - 0s 2ms/step - loss: 0.5737 - accuracy: 0.7031\n",
      "Epoch 28/150\n",
      "77/77 [==============================] - 0s 3ms/step - loss: 0.5761 - accuracy: 0.6888\n",
      "Epoch 29/150\n",
      "77/77 [==============================] - 0s 2ms/step - loss: 0.5771 - accuracy: 0.7044\n",
      "Epoch 30/150\n",
      "77/77 [==============================] - 0s 2ms/step - loss: 0.5675 - accuracy: 0.7109\n",
      "Epoch 31/150\n",
      "77/77 [==============================] - 0s 3ms/step - loss: 0.5656 - accuracy: 0.7227\n",
      "Epoch 32/150\n",
      "77/77 [==============================] - 0s 2ms/step - loss: 0.5743 - accuracy: 0.7201\n",
      "Epoch 33/150\n",
      "77/77 [==============================] - 0s 2ms/step - loss: 0.5821 - accuracy: 0.6914\n",
      "Epoch 34/150\n",
      "77/77 [==============================] - 0s 2ms/step - loss: 0.5653 - accuracy: 0.6940\n",
      "Epoch 35/150\n",
      "77/77 [==============================] - 0s 2ms/step - loss: 0.5584 - accuracy: 0.7383\n",
      "Epoch 36/150\n",
      "77/77 [==============================] - 0s 2ms/step - loss: 0.5698 - accuracy: 0.7005\n",
      "Epoch 37/150\n",
      "77/77 [==============================] - 0s 4ms/step - loss: 0.5641 - accuracy: 0.7083\n",
      "Epoch 38/150\n",
      "77/77 [==============================] - 0s 2ms/step - loss: 0.5622 - accuracy: 0.7174\n",
      "Epoch 39/150\n",
      "77/77 [==============================] - 0s 2ms/step - loss: 0.5758 - accuracy: 0.7174\n",
      "Epoch 40/150\n",
      "77/77 [==============================] - 0s 2ms/step - loss: 0.5515 - accuracy: 0.7240\n",
      "Epoch 41/150\n",
      "77/77 [==============================] - 0s 2ms/step - loss: 0.5602 - accuracy: 0.7266\n",
      "Epoch 42/150\n",
      "77/77 [==============================] - 0s 3ms/step - loss: 0.5535 - accuracy: 0.7292\n",
      "Epoch 43/150\n",
      "77/77 [==============================] - 0s 2ms/step - loss: 0.5463 - accuracy: 0.7344\n",
      "Epoch 44/150\n",
      "77/77 [==============================] - 0s 2ms/step - loss: 0.5516 - accuracy: 0.7357\n",
      "Epoch 45/150\n",
      "77/77 [==============================] - 0s 2ms/step - loss: 0.5470 - accuracy: 0.7422\n",
      "Epoch 46/150\n",
      "77/77 [==============================] - 0s 2ms/step - loss: 0.5446 - accuracy: 0.7292\n",
      "Epoch 47/150\n",
      "77/77 [==============================] - 0s 2ms/step - loss: 0.5369 - accuracy: 0.7422\n",
      "Epoch 48/150\n",
      "77/77 [==============================] - 0s 2ms/step - loss: 0.5358 - accuracy: 0.7461\n",
      "Epoch 49/150\n",
      "77/77 [==============================] - 0s 2ms/step - loss: 0.5386 - accuracy: 0.7292\n",
      "Epoch 50/150\n",
      "77/77 [==============================] - 0s 2ms/step - loss: 0.5396 - accuracy: 0.7344\n",
      "Epoch 51/150\n",
      "77/77 [==============================] - 0s 3ms/step - loss: 0.5443 - accuracy: 0.7227\n",
      "Epoch 52/150\n",
      "77/77 [==============================] - 0s 2ms/step - loss: 0.5289 - accuracy: 0.7331\n",
      "Epoch 53/150\n",
      "77/77 [==============================] - 0s 3ms/step - loss: 0.5347 - accuracy: 0.7409\n",
      "Epoch 54/150\n",
      "77/77 [==============================] - 0s 3ms/step - loss: 0.5332 - accuracy: 0.7344\n",
      "Epoch 55/150\n",
      "77/77 [==============================] - 0s 2ms/step - loss: 0.5555 - accuracy: 0.7201\n",
      "Epoch 56/150\n",
      "77/77 [==============================] - 0s 2ms/step - loss: 0.5309 - accuracy: 0.7279\n",
      "Epoch 57/150\n",
      "77/77 [==============================] - 0s 2ms/step - loss: 0.5344 - accuracy: 0.7409\n",
      "Epoch 58/150\n",
      "77/77 [==============================] - 0s 2ms/step - loss: 0.5367 - accuracy: 0.7344\n",
      "Epoch 59/150\n",
      "77/77 [==============================] - 0s 2ms/step - loss: 0.5272 - accuracy: 0.7370\n",
      "Epoch 60/150\n",
      "77/77 [==============================] - 0s 2ms/step - loss: 0.5358 - accuracy: 0.7344\n",
      "Epoch 61/150\n",
      "77/77 [==============================] - 0s 2ms/step - loss: 0.5287 - accuracy: 0.7344\n",
      "Epoch 62/150\n",
      "77/77 [==============================] - 0s 2ms/step - loss: 0.5330 - accuracy: 0.7461\n",
      "Epoch 63/150\n",
      "77/77 [==============================] - 0s 2ms/step - loss: 0.5245 - accuracy: 0.7474\n",
      "Epoch 64/150\n",
      "77/77 [==============================] - 0s 2ms/step - loss: 0.5231 - accuracy: 0.7383\n",
      "Epoch 65/150\n",
      "77/77 [==============================] - 0s 2ms/step - loss: 0.5185 - accuracy: 0.7500\n",
      "Epoch 66/150\n",
      "77/77 [==============================] - 0s 2ms/step - loss: 0.5185 - accuracy: 0.7526\n",
      "Epoch 67/150\n",
      "77/77 [==============================] - 0s 2ms/step - loss: 0.5241 - accuracy: 0.7526\n",
      "Epoch 68/150\n",
      "77/77 [==============================] - 0s 3ms/step - loss: 0.5242 - accuracy: 0.7461\n",
      "Epoch 69/150\n",
      "77/77 [==============================] - 0s 2ms/step - loss: 0.5103 - accuracy: 0.7565\n",
      "Epoch 70/150\n",
      "77/77 [==============================] - 0s 2ms/step - loss: 0.5127 - accuracy: 0.7435\n",
      "Epoch 71/150\n",
      "77/77 [==============================] - 0s 3ms/step - loss: 0.5229 - accuracy: 0.7409\n",
      "Epoch 72/150\n",
      "77/77 [==============================] - 0s 2ms/step - loss: 0.5288 - accuracy: 0.7344\n",
      "Epoch 73/150\n",
      "77/77 [==============================] - ETA: 0s - loss: 0.5015 - accuracy: 0.75 - 0s 2ms/step - loss: 0.5074 - accuracy: 0.7500\n",
      "Epoch 74/150\n",
      "77/77 [==============================] - 0s 2ms/step - loss: 0.5078 - accuracy: 0.7448\n",
      "Epoch 75/150\n",
      "77/77 [==============================] - 0s 2ms/step - loss: 0.5067 - accuracy: 0.7513\n",
      "Epoch 76/150\n",
      "77/77 [==============================] - 0s 2ms/step - loss: 0.5100 - accuracy: 0.7513\n",
      "Epoch 77/150\n",
      "77/77 [==============================] - 0s 2ms/step - loss: 0.5109 - accuracy: 0.7474\n",
      "Epoch 78/150\n",
      "77/77 [==============================] - 0s 2ms/step - loss: 0.5125 - accuracy: 0.7500\n",
      "Epoch 79/150\n",
      "77/77 [==============================] - 0s 2ms/step - loss: 0.5122 - accuracy: 0.7474\n",
      "Epoch 80/150\n",
      "77/77 [==============================] - 0s 3ms/step - loss: 0.5175 - accuracy: 0.7435\n",
      "Epoch 81/150\n",
      "77/77 [==============================] - 0s 2ms/step - loss: 0.4986 - accuracy: 0.7565\n",
      "Epoch 82/150\n",
      "77/77 [==============================] - 0s 2ms/step - loss: 0.5091 - accuracy: 0.7695\n",
      "Epoch 83/150\n",
      "77/77 [==============================] - 0s 2ms/step - loss: 0.5039 - accuracy: 0.7604\n",
      "Epoch 84/150\n",
      "77/77 [==============================] - 0s 2ms/step - loss: 0.5051 - accuracy: 0.7474\n",
      "Epoch 85/150\n",
      "77/77 [==============================] - 0s 2ms/step - loss: 0.5193 - accuracy: 0.7487\n",
      "Epoch 86/150\n",
      "77/77 [==============================] - 0s 3ms/step - loss: 0.5032 - accuracy: 0.7500\n",
      "Epoch 87/150\n",
      "77/77 [==============================] - 0s 2ms/step - loss: 0.5294 - accuracy: 0.7591\n",
      "Epoch 88/150\n",
      "77/77 [==============================] - 0s 2ms/step - loss: 0.4995 - accuracy: 0.7617\n",
      "Epoch 89/150\n",
      "77/77 [==============================] - 0s 2ms/step - loss: 0.5106 - accuracy: 0.7656\n",
      "Epoch 90/150\n",
      "77/77 [==============================] - 0s 2ms/step - loss: 0.4973 - accuracy: 0.7591\n",
      "Epoch 91/150\n",
      "77/77 [==============================] - 0s 3ms/step - loss: 0.5080 - accuracy: 0.7487\n",
      "Epoch 92/150\n",
      "77/77 [==============================] - 0s 2ms/step - loss: 0.5125 - accuracy: 0.7422\n",
      "Epoch 93/150\n",
      "77/77 [==============================] - 0s 3ms/step - loss: 0.5018 - accuracy: 0.7591\n",
      "Epoch 94/150\n",
      "77/77 [==============================] - 0s 2ms/step - loss: 0.4942 - accuracy: 0.7786\n",
      "Epoch 95/150\n",
      "77/77 [==============================] - 0s 3ms/step - loss: 0.4974 - accuracy: 0.7630\n",
      "Epoch 96/150\n",
      "77/77 [==============================] - 0s 2ms/step - loss: 0.5011 - accuracy: 0.7383\n",
      "Epoch 97/150\n",
      "77/77 [==============================] - 0s 2ms/step - loss: 0.5000 - accuracy: 0.7526\n",
      "Epoch 98/150\n",
      "77/77 [==============================] - 0s 2ms/step - loss: 0.5112 - accuracy: 0.7552\n",
      "Epoch 99/150\n",
      "77/77 [==============================] - 0s 3ms/step - loss: 0.4881 - accuracy: 0.7760\n",
      "Epoch 100/150\n",
      "77/77 [==============================] - 0s 2ms/step - loss: 0.5033 - accuracy: 0.7643\n",
      "Epoch 101/150\n",
      "77/77 [==============================] - 0s 2ms/step - loss: 0.5063 - accuracy: 0.7448\n",
      "Epoch 102/150\n",
      "77/77 [==============================] - 0s 2ms/step - loss: 0.4923 - accuracy: 0.7591\n",
      "Epoch 103/150\n",
      "77/77 [==============================] - 0s 2ms/step - loss: 0.4906 - accuracy: 0.7617\n",
      "Epoch 104/150\n",
      "77/77 [==============================] - 0s 2ms/step - loss: 0.4951 - accuracy: 0.7578\n",
      "Epoch 105/150\n",
      "77/77 [==============================] - 0s 2ms/step - loss: 0.4877 - accuracy: 0.7734\n",
      "Epoch 106/150\n",
      "77/77 [==============================] - 0s 2ms/step - loss: 0.4947 - accuracy: 0.7643\n",
      "Epoch 107/150\n",
      "77/77 [==============================] - 0s 2ms/step - loss: 0.4879 - accuracy: 0.7578\n",
      "Epoch 108/150\n",
      "77/77 [==============================] - 0s 2ms/step - loss: 0.5130 - accuracy: 0.7513\n",
      "Epoch 109/150\n",
      "77/77 [==============================] - 0s 2ms/step - loss: 0.4859 - accuracy: 0.7747\n",
      "Epoch 110/150\n",
      "77/77 [==============================] - 0s 2ms/step - loss: 0.4934 - accuracy: 0.7695\n",
      "Epoch 111/150\n",
      "77/77 [==============================] - 0s 2ms/step - loss: 0.5033 - accuracy: 0.7487\n",
      "Epoch 112/150\n",
      "77/77 [==============================] - 0s 2ms/step - loss: 0.4877 - accuracy: 0.7643\n",
      "Epoch 113/150\n",
      "77/77 [==============================] - 0s 2ms/step - loss: 0.5053 - accuracy: 0.7435\n",
      "Epoch 114/150\n",
      "77/77 [==============================] - 0s 2ms/step - loss: 0.5101 - accuracy: 0.7435\n",
      "Epoch 115/150\n",
      "77/77 [==============================] - 0s 2ms/step - loss: 0.4975 - accuracy: 0.7591\n",
      "Epoch 116/150\n",
      "77/77 [==============================] - 0s 2ms/step - loss: 0.4907 - accuracy: 0.7643\n",
      "Epoch 117/150\n",
      "77/77 [==============================] - 0s 2ms/step - loss: 0.4841 - accuracy: 0.7721\n",
      "Epoch 118/150\n",
      "77/77 [==============================] - 0s 3ms/step - loss: 0.4815 - accuracy: 0.7695\n",
      "Epoch 119/150\n",
      "77/77 [==============================] - 0s 2ms/step - loss: 0.4877 - accuracy: 0.7760\n",
      "Epoch 120/150\n",
      "77/77 [==============================] - 0s 2ms/step - loss: 0.4835 - accuracy: 0.7747\n",
      "Epoch 121/150\n",
      "77/77 [==============================] - 0s 2ms/step - loss: 0.4948 - accuracy: 0.7682\n",
      "Epoch 122/150\n",
      "77/77 [==============================] - 0s 2ms/step - loss: 0.4875 - accuracy: 0.7604\n",
      "Epoch 123/150\n",
      "77/77 [==============================] - 0s 2ms/step - loss: 0.4848 - accuracy: 0.7630\n",
      "Epoch 124/150\n",
      "77/77 [==============================] - 0s 2ms/step - loss: 0.4815 - accuracy: 0.7643\n",
      "Epoch 125/150\n",
      "77/77 [==============================] - 0s 3ms/step - loss: 0.5061 - accuracy: 0.7435\n",
      "Epoch 126/150\n",
      "77/77 [==============================] - 0s 2ms/step - loss: 0.4935 - accuracy: 0.7552\n",
      "Epoch 127/150\n",
      "77/77 [==============================] - 0s 2ms/step - loss: 0.4898 - accuracy: 0.7565\n",
      "Epoch 128/150\n",
      "77/77 [==============================] - 0s 2ms/step - loss: 0.4921 - accuracy: 0.7721\n",
      "Epoch 129/150\n",
      "77/77 [==============================] - 0s 2ms/step - loss: 0.4869 - accuracy: 0.7721\n",
      "Epoch 130/150\n",
      "77/77 [==============================] - 0s 2ms/step - loss: 0.4798 - accuracy: 0.7617\n",
      "Epoch 131/150\n",
      "77/77 [==============================] - 0s 2ms/step - loss: 0.4825 - accuracy: 0.7617\n",
      "Epoch 132/150\n",
      "77/77 [==============================] - 0s 3ms/step - loss: 0.4835 - accuracy: 0.7721\n",
      "Epoch 133/150\n",
      "77/77 [==============================] - 0s 2ms/step - loss: 0.4833 - accuracy: 0.7826\n",
      "Epoch 134/150\n",
      "77/77 [==============================] - 0s 2ms/step - loss: 0.4762 - accuracy: 0.7812\n",
      "Epoch 135/150\n",
      "77/77 [==============================] - 0s 3ms/step - loss: 0.4855 - accuracy: 0.7539\n",
      "Epoch 136/150\n",
      "77/77 [==============================] - 0s 2ms/step - loss: 0.4810 - accuracy: 0.7839\n",
      "Epoch 137/150\n",
      "77/77 [==============================] - 0s 2ms/step - loss: 0.4814 - accuracy: 0.7708: 0s - loss: 0.4847 - accuracy: 0.77\n",
      "Epoch 138/150\n",
      "77/77 [==============================] - 0s 2ms/step - loss: 0.4825 - accuracy: 0.7565\n",
      "Epoch 139/150\n",
      "77/77 [==============================] - 0s 2ms/step - loss: 0.4867 - accuracy: 0.7578\n",
      "Epoch 140/150\n",
      "77/77 [==============================] - 0s 2ms/step - loss: 0.4823 - accuracy: 0.7617\n",
      "Epoch 141/150\n",
      "77/77 [==============================] - 0s 2ms/step - loss: 0.4778 - accuracy: 0.7799\n",
      "Epoch 142/150\n",
      "77/77 [==============================] - 0s 2ms/step - loss: 0.4826 - accuracy: 0.7773\n",
      "Epoch 143/150\n",
      "77/77 [==============================] - 0s 3ms/step - loss: 0.4752 - accuracy: 0.7734\n",
      "Epoch 144/150\n",
      "77/77 [==============================] - 0s 2ms/step - loss: 0.4809 - accuracy: 0.7708\n",
      "Epoch 145/150\n",
      "77/77 [==============================] - 0s 2ms/step - loss: 0.4994 - accuracy: 0.7487\n",
      "Epoch 146/150\n",
      "77/77 [==============================] - 0s 2ms/step - loss: 0.4734 - accuracy: 0.7839\n",
      "Epoch 147/150\n",
      "77/77 [==============================] - 0s 2ms/step - loss: 0.4765 - accuracy: 0.7604\n",
      "Epoch 148/150\n",
      "77/77 [==============================] - 0s 2ms/step - loss: 0.4852 - accuracy: 0.7826\n",
      "Epoch 149/150\n",
      "77/77 [==============================] - 0s 2ms/step - loss: 0.4866 - accuracy: 0.7448\n",
      "Epoch 150/150\n",
      "77/77 [==============================] - 0s 2ms/step - loss: 0.4802 - accuracy: 0.7708\n"
     ]
    },
    {
     "data": {
      "text/plain": [
       "<keras.callbacks.History at 0x2564dd4fd60>"
      ]
     },
     "execution_count": 13,
     "metadata": {},
     "output_type": "execute_result"
    }
   ],
   "source": [
    "# fit the keras model on the dataset\n",
    "model.fit(X, y, epochs=150, batch_size=10)"
   ]
  },
  {
   "cell_type": "markdown",
   "id": "4a8a2b7a",
   "metadata": {},
   "source": [
    "# 5. Evaluate Keras Model"
   ]
  },
  {
   "cell_type": "code",
   "execution_count": 16,
   "id": "f184c572",
   "metadata": {},
   "outputs": [
    {
     "name": "stdout",
     "output_type": "stream",
     "text": [
      "24/24 [==============================] - 0s 2ms/step - loss: 0.4623 - accuracy: 0.7826\n",
      "Accuracy: 78.26\n"
     ]
    }
   ],
   "source": [
    "# evaluate the keras model\n",
    "_, accuracy = model.evaluate(X, y)\n",
    "print('Accuracy: %.2f' % (accuracy*100))"
   ]
  },
  {
   "cell_type": "markdown",
   "id": "a6fb6f80",
   "metadata": {},
   "source": [
    "# 6. Make Prediction"
   ]
  },
  {
   "cell_type": "code",
   "execution_count": 19,
   "id": "4befdf95",
   "metadata": {},
   "outputs": [],
   "source": [
    "# make probability predictions with the model\n",
    "predictions = model.predict(X)\n",
    "# round predictions \n",
    "rounded = [round(x[0]) for x in predictions]\n",
    "# make class predictions with the model\n",
    "predictions = (model.predict(X) > 0.5).astype(int)"
   ]
  },
  {
   "cell_type": "code",
   "execution_count": 20,
   "id": "9a7d3382",
   "metadata": {},
   "outputs": [
    {
     "name": "stdout",
     "output_type": "stream",
     "text": [
      "[6.0, 148.0, 72.0, 35.0, 0.0, 33.6, 0.627, 50.0] => 1 (expected 1)\n",
      "[1.0, 85.0, 66.0, 29.0, 0.0, 26.6, 0.351, 31.0] => 0 (expected 0)\n",
      "[8.0, 183.0, 64.0, 0.0, 0.0, 23.3, 0.672, 32.0] => 1 (expected 1)\n",
      "[1.0, 89.0, 66.0, 23.0, 94.0, 28.1, 0.167, 21.0] => 0 (expected 0)\n",
      "[0.0, 137.0, 40.0, 35.0, 168.0, 43.1, 2.288, 33.0] => 1 (expected 1)\n"
     ]
    }
   ],
   "source": [
    "# summarize the first 5 cases\n",
    "for i in range(5):\n",
    "\tprint('%s => %d (expected %d)' % (X[i].tolist(), predictions[i], y[i]))"
   ]
  },
  {
   "cell_type": "markdown",
   "id": "a79646f4",
   "metadata": {},
   "source": [
    "# Summary"
   ]
  },
  {
   "cell_type": "markdown",
   "id": "2e0a296c",
   "metadata": {},
   "source": [
    "\n",
    "In this post, you discovered how to create your first neural network model using the powerful Keras Python library for deep learning.\n",
    "\n",
    "Specifically, you learned the six key steps in using Keras to create a neural network or deep learning model, step-by-step including:\n",
    "\n",
    "How to load data.\n",
    "\n",
    "How to define a neural network in Keras.\n",
    "\n",
    "How to compile a Keras model using the efficient numerical backend.\n",
    "\n",
    "How to train a model on data.\n",
    "\n",
    "How to evaluate a model on data.\n",
    "\n",
    "How to make predictions with the model."
   ]
  },
  {
   "cell_type": "markdown",
   "id": "c8e75caa",
   "metadata": {},
   "source": [
    "# Reference Link\n",
    " https://machinelearningmastery.com/tutorial-first-neural-network-python-keras/"
   ]
  }
 ],
 "metadata": {
  "kernelspec": {
   "display_name": "Python 3 (ipykernel)",
   "language": "python",
   "name": "python3"
  },
  "language_info": {
   "codemirror_mode": {
    "name": "ipython",
    "version": 3
   },
   "file_extension": ".py",
   "mimetype": "text/x-python",
   "name": "python",
   "nbconvert_exporter": "python",
   "pygments_lexer": "ipython3",
   "version": "3.9.5"
  }
 },
 "nbformat": 4,
 "nbformat_minor": 5
}
